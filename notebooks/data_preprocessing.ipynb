{
 "cells": [
  {
   "cell_type": "code",
   "execution_count": 51,
   "id": "2f604014",
   "metadata": {},
   "outputs": [],
   "source": [
    "import pandas as pd \n",
    "merged_df = pd.read_csv(\"../data/merged_dataset_ver1.1.csv\")"
   ]
  },
  {
   "cell_type": "code",
   "execution_count": 52,
   "id": "331a4c19",
   "metadata": {},
   "outputs": [
    {
     "name": "stdout",
     "output_type": "stream",
     "text": [
      "<class 'pandas.core.frame.DataFrame'>\n",
      "RangeIndex: 32593 entries, 0 to 32592\n",
      "Data columns (total 18 columns):\n",
      " #   Column                Non-Null Count  Dtype  \n",
      "---  ------                --------------  -----  \n",
      " 0   code_module           32593 non-null  object \n",
      " 1   code_presentation     32593 non-null  object \n",
      " 2   id_student            32593 non-null  int64  \n",
      " 3   gender                32593 non-null  object \n",
      " 4   region                32593 non-null  object \n",
      " 5   highest_education     32593 non-null  object \n",
      " 6   imd_band              31482 non-null  object \n",
      " 7   age_band              32593 non-null  object \n",
      " 8   num_of_prev_attempts  32593 non-null  int64  \n",
      " 9   studied_credits       32593 non-null  int64  \n",
      " 10  disability            32593 non-null  object \n",
      " 11  date_registration     32548 non-null  float64\n",
      " 12  date_unregistration   10072 non-null  float64\n",
      " 13  sum_click             32593 non-null  float64\n",
      " 14  avg_score             32593 non-null  float64\n",
      " 15  banked_ratio          32593 non-null  float64\n",
      " 16  is_dropout            32593 non-null  int64  \n",
      " 17  target                32593 non-null  int64  \n",
      "dtypes: float64(5), int64(5), object(8)\n",
      "memory usage: 4.5+ MB\n"
     ]
    }
   ],
   "source": [
    "merged_df.info()"
   ]
  },
  {
   "cell_type": "code",
   "execution_count": 29,
   "id": "696ddd6e",
   "metadata": {},
   "outputs": [
    {
     "data": {
      "text/plain": [
       "[np.float64(-225.0),\n",
       " np.float64(-209.0),\n",
       " np.float64(-163.0),\n",
       " np.float64(-142.0),\n",
       " np.float64(-137.0),\n",
       " np.float64(-131.0),\n",
       " np.float64(-129.0),\n",
       " np.float64(-117.0),\n",
       " np.float64(-109.0),\n",
       " np.float64(-106.0),\n",
       " np.float64(-101.0),\n",
       " np.float64(-96.0),\n",
       " np.float64(-94.0),\n",
       " np.float64(-92.0),\n",
       " np.float64(-87.0),\n",
       " np.float64(-85.0),\n",
       " np.float64(-82.0),\n",
       " np.float64(-81.0),\n",
       " np.float64(-75.0),\n",
       " np.float64(-73.0),\n",
       " np.float64(-68.0),\n",
       " np.float64(-65.0),\n",
       " np.float64(-59.0),\n",
       " np.float64(-54.0),\n",
       " np.float64(-49.0),\n",
       " np.float64(-47.0),\n",
       " np.float64(-45.0),\n",
       " np.float64(-36.0),\n",
       " np.float64(-30.0),\n",
       " np.float64(-29.0),\n",
       " np.float64(-28.0),\n",
       " np.float64(-26.0),\n",
       " np.float64(-25.0),\n",
       " np.float64(-23.0),\n",
       " np.float64(-22.0),\n",
       " np.float64(-18.0),\n",
       " np.float64(-17.0),\n",
       " np.float64(-16.0),\n",
       " np.float64(-15.0),\n",
       " np.float64(-12.0),\n",
       " np.float64(-11.0),\n",
       " np.float64(-9.0),\n",
       " np.float64(-8.0),\n",
       " np.float64(-5.0),\n",
       " np.float64(-4.0),\n",
       " np.float64(-1.0),\n",
       " np.float64(2.0),\n",
       " np.float64(3.0),\n",
       " np.float64(4.0),\n",
       " np.float64(6.0),\n",
       " np.float64(9.0),\n",
       " np.float64(11.0),\n",
       " np.float64(13.0),\n",
       " np.float64(14.0),\n",
       " np.float64(16.0),\n",
       " np.float64(17.0),\n",
       " np.float64(18.0),\n",
       " np.float64(20.0),\n",
       " np.float64(22.0),\n",
       " np.float64(24.0),\n",
       " np.float64(25.0),\n",
       " np.float64(26.0),\n",
       " np.float64(29.0),\n",
       " np.float64(31.0),\n",
       " np.float64(32.0),\n",
       " np.float64(33.0),\n",
       " np.float64(34.0),\n",
       " np.float64(38.0),\n",
       " np.float64(39.0),\n",
       " np.float64(40.0),\n",
       " np.float64(42.0),\n",
       " np.float64(44.0),\n",
       " np.float64(45.0),\n",
       " np.float64(46.0),\n",
       " np.float64(47.0),\n",
       " np.float64(48.0),\n",
       " np.float64(49.0),\n",
       " np.float64(54.0),\n",
       " np.float64(55.0),\n",
       " np.float64(57.0),\n",
       " np.float64(59.0),\n",
       " np.float64(61.0),\n",
       " np.float64(62.0),\n",
       " np.float64(63.0),\n",
       " np.float64(66.0),\n",
       " np.float64(67.0),\n",
       " np.float64(68.0),\n",
       " np.float64(69.0),\n",
       " np.float64(72.0),\n",
       " np.float64(nan),\n",
       " np.float64(-365.0),\n",
       " np.float64(-317.0),\n",
       " np.float64(-297.0),\n",
       " np.float64(-274.0),\n",
       " np.float64(-271.0),\n",
       " np.float64(-262.0),\n",
       " np.float64(-248.0),\n",
       " np.float64(-232.0),\n",
       " np.float64(-220.0),\n",
       " np.float64(-213.0),\n",
       " np.float64(-212.0),\n",
       " np.float64(-207.0),\n",
       " np.float64(-206.0),\n",
       " np.float64(-205.0),\n",
       " np.float64(-204.0),\n",
       " np.float64(-197.0),\n",
       " np.float64(-196.0),\n",
       " np.float64(-194.0),\n",
       " np.float64(-192.0),\n",
       " np.float64(-191.0),\n",
       " np.float64(-185.0),\n",
       " np.float64(-184.0),\n",
       " np.float64(-179.0),\n",
       " np.float64(-178.0),\n",
       " np.float64(-177.0),\n",
       " np.float64(-176.0),\n",
       " np.float64(-171.0),\n",
       " np.float64(-169.0),\n",
       " np.float64(-168.0),\n",
       " np.float64(-166.0),\n",
       " np.float64(-158.0),\n",
       " np.float64(-157.0),\n",
       " np.float64(-156.0),\n",
       " np.float64(-155.0),\n",
       " np.float64(-152.0),\n",
       " np.float64(-151.0),\n",
       " np.float64(-149.0),\n",
       " np.float64(-148.0),\n",
       " np.float64(-147.0),\n",
       " np.float64(-145.0),\n",
       " np.float64(-144.0),\n",
       " np.float64(-143.0),\n",
       " np.float64(-141.0),\n",
       " np.float64(-140.0),\n",
       " np.float64(-138.0),\n",
       " np.float64(-136.0),\n",
       " np.float64(-134.0),\n",
       " np.float64(-133.0),\n",
       " np.float64(-130.0),\n",
       " np.float64(-128.0),\n",
       " np.float64(-127.0),\n",
       " np.float64(-126.0),\n",
       " np.float64(-124.0),\n",
       " np.float64(-123.0),\n",
       " np.float64(-122.0),\n",
       " np.float64(-121.0),\n",
       " np.float64(-120.0),\n",
       " np.float64(-119.0),\n",
       " np.float64(-118.0),\n",
       " np.float64(-116.0),\n",
       " np.float64(-115.0),\n",
       " np.float64(-114.0),\n",
       " np.float64(-113.0),\n",
       " np.float64(-112.0),\n",
       " np.float64(-110.0),\n",
       " np.float64(-108.0),\n",
       " np.float64(-107.0),\n",
       " np.float64(-105.0),\n",
       " np.float64(-103.0),\n",
       " np.float64(-102.0),\n",
       " np.float64(-100.0),\n",
       " np.float64(-99.0),\n",
       " np.float64(-98.0),\n",
       " np.float64(-97.0),\n",
       " np.float64(-95.0),\n",
       " np.float64(-93.0),\n",
       " np.float64(-91.0),\n",
       " np.float64(-89.0),\n",
       " np.float64(-88.0),\n",
       " np.float64(-86.0),\n",
       " np.float64(-84.0),\n",
       " np.float64(-80.0),\n",
       " np.float64(-79.0),\n",
       " np.float64(-78.0),\n",
       " np.float64(-77.0),\n",
       " np.float64(-74.0),\n",
       " np.float64(-72.0),\n",
       " np.float64(-71.0),\n",
       " np.float64(-67.0),\n",
       " np.float64(-66.0),\n",
       " np.float64(-64.0),\n",
       " np.float64(-63.0),\n",
       " np.float64(-62.0),\n",
       " np.float64(-61.0),\n",
       " np.float64(-60.0),\n",
       " np.float64(-58.0),\n",
       " np.float64(-57.0),\n",
       " np.float64(-56.0),\n",
       " np.float64(-53.0),\n",
       " np.float64(-52.0),\n",
       " np.float64(-51.0),\n",
       " np.float64(-50.0),\n",
       " np.float64(-48.0),\n",
       " np.float64(-46.0),\n",
       " np.float64(-44.0),\n",
       " np.float64(-43.0),\n",
       " np.float64(-42.0),\n",
       " np.float64(-41.0),\n",
       " np.float64(-40.0),\n",
       " np.float64(-39.0),\n",
       " np.float64(-38.0),\n",
       " np.float64(-37.0),\n",
       " np.float64(-35.0),\n",
       " np.float64(-33.0),\n",
       " np.float64(-32.0),\n",
       " np.float64(-31.0),\n",
       " np.float64(-27.0),\n",
       " np.float64(-24.0),\n",
       " np.float64(-21.0),\n",
       " np.float64(-20.0),\n",
       " np.float64(-19.0),\n",
       " np.float64(-14.0),\n",
       " np.float64(-10.0),\n",
       " np.float64(-7.0),\n",
       " np.float64(-6.0),\n",
       " np.float64(-3.0),\n",
       " np.float64(-2.0),\n",
       " np.float64(0.0),\n",
       " np.float64(1.0),\n",
       " np.float64(5.0),\n",
       " np.float64(7.0),\n",
       " np.float64(8.0),\n",
       " np.float64(10.0),\n",
       " np.float64(12.0),\n",
       " np.float64(15.0),\n",
       " np.float64(19.0),\n",
       " np.float64(21.0),\n",
       " np.float64(23.0),\n",
       " np.float64(27.0),\n",
       " np.float64(28.0),\n",
       " np.float64(30.0),\n",
       " np.float64(35.0),\n",
       " np.float64(36.0),\n",
       " np.float64(37.0),\n",
       " np.float64(41.0),\n",
       " np.float64(43.0),\n",
       " np.float64(50.0),\n",
       " np.float64(51.0),\n",
       " np.float64(52.0),\n",
       " np.float64(53.0),\n",
       " np.float64(56.0),\n",
       " np.float64(58.0),\n",
       " np.float64(60.0),\n",
       " np.float64(64.0),\n",
       " np.float64(65.0),\n",
       " np.float64(70.0),\n",
       " np.float64(71.0),\n",
       " np.float64(73.0),\n",
       " np.float64(74.0),\n",
       " np.float64(75.0),\n",
       " np.float64(76.0),\n",
       " np.float64(77.0),\n",
       " np.float64(78.0),\n",
       " np.float64(79.0),\n",
       " np.float64(80.0),\n",
       " np.float64(81.0),\n",
       " np.float64(82.0),\n",
       " np.float64(83.0),\n",
       " np.float64(84.0),\n",
       " np.float64(85.0),\n",
       " np.float64(86.0),\n",
       " np.float64(87.0),\n",
       " np.float64(88.0),\n",
       " np.float64(89.0),\n",
       " np.float64(90.0),\n",
       " np.float64(91.0),\n",
       " np.float64(92.0),\n",
       " np.float64(93.0),\n",
       " np.float64(94.0),\n",
       " np.float64(95.0),\n",
       " np.float64(96.0),\n",
       " np.float64(97.0),\n",
       " np.float64(98.0),\n",
       " np.float64(99.0),\n",
       " np.float64(100.0),\n",
       " np.float64(101.0),\n",
       " np.float64(102.0),\n",
       " np.float64(103.0),\n",
       " np.float64(104.0),\n",
       " np.float64(105.0),\n",
       " np.float64(106.0),\n",
       " np.float64(107.0),\n",
       " np.float64(108.0),\n",
       " np.float64(109.0),\n",
       " np.float64(110.0),\n",
       " np.float64(111.0),\n",
       " np.float64(112.0),\n",
       " np.float64(113.0),\n",
       " np.float64(114.0),\n",
       " np.float64(115.0),\n",
       " np.float64(116.0),\n",
       " np.float64(117.0),\n",
       " np.float64(118.0),\n",
       " np.float64(119.0),\n",
       " np.float64(120.0),\n",
       " np.float64(121.0),\n",
       " np.float64(122.0),\n",
       " np.float64(123.0),\n",
       " np.float64(124.0),\n",
       " np.float64(125.0),\n",
       " np.float64(126.0),\n",
       " np.float64(127.0),\n",
       " np.float64(128.0),\n",
       " np.float64(129.0),\n",
       " np.float64(130.0),\n",
       " np.float64(131.0),\n",
       " np.float64(132.0),\n",
       " np.float64(133.0),\n",
       " np.float64(134.0),\n",
       " np.float64(135.0),\n",
       " np.float64(136.0),\n",
       " np.float64(137.0),\n",
       " np.float64(138.0),\n",
       " np.float64(139.0),\n",
       " np.float64(140.0),\n",
       " np.float64(141.0),\n",
       " np.float64(142.0),\n",
       " np.float64(143.0),\n",
       " np.float64(144.0),\n",
       " np.float64(145.0),\n",
       " np.float64(146.0),\n",
       " np.float64(147.0),\n",
       " np.float64(148.0),\n",
       " np.float64(149.0),\n",
       " np.float64(150.0),\n",
       " np.float64(151.0),\n",
       " np.float64(152.0),\n",
       " np.float64(153.0),\n",
       " np.float64(154.0),\n",
       " np.float64(155.0),\n",
       " np.float64(156.0),\n",
       " np.float64(157.0),\n",
       " np.float64(158.0),\n",
       " np.float64(159.0),\n",
       " np.float64(160.0),\n",
       " np.float64(161.0),\n",
       " np.float64(162.0),\n",
       " np.float64(163.0),\n",
       " np.float64(164.0),\n",
       " np.float64(165.0),\n",
       " np.float64(166.0),\n",
       " np.float64(167.0),\n",
       " np.float64(168.0),\n",
       " np.float64(169.0),\n",
       " np.float64(170.0),\n",
       " np.float64(171.0),\n",
       " np.float64(172.0),\n",
       " np.float64(173.0),\n",
       " np.float64(174.0),\n",
       " np.float64(175.0),\n",
       " np.float64(176.0),\n",
       " np.float64(177.0),\n",
       " np.float64(178.0),\n",
       " np.float64(179.0),\n",
       " np.float64(180.0),\n",
       " np.float64(181.0),\n",
       " np.float64(182.0),\n",
       " np.float64(183.0),\n",
       " np.float64(184.0),\n",
       " np.float64(185.0),\n",
       " np.float64(186.0),\n",
       " np.float64(187.0),\n",
       " np.float64(188.0),\n",
       " np.float64(189.0),\n",
       " np.float64(190.0),\n",
       " np.float64(191.0),\n",
       " np.float64(192.0),\n",
       " np.float64(193.0),\n",
       " np.float64(194.0),\n",
       " np.float64(195.0),\n",
       " np.float64(196.0),\n",
       " np.float64(197.0),\n",
       " np.float64(198.0),\n",
       " np.float64(199.0),\n",
       " np.float64(200.0),\n",
       " np.float64(201.0),\n",
       " np.float64(202.0),\n",
       " np.float64(203.0),\n",
       " np.float64(204.0),\n",
       " np.float64(205.0),\n",
       " np.float64(206.0),\n",
       " np.float64(207.0),\n",
       " np.float64(208.0),\n",
       " np.float64(209.0),\n",
       " np.float64(210.0),\n",
       " np.float64(211.0),\n",
       " np.float64(212.0),\n",
       " np.float64(213.0),\n",
       " np.float64(214.0),\n",
       " np.float64(215.0),\n",
       " np.float64(216.0),\n",
       " np.float64(217.0),\n",
       " np.float64(218.0),\n",
       " np.float64(219.0),\n",
       " np.float64(220.0),\n",
       " np.float64(221.0),\n",
       " np.float64(222.0),\n",
       " np.float64(223.0),\n",
       " np.float64(224.0),\n",
       " np.float64(225.0),\n",
       " np.float64(226.0),\n",
       " np.float64(227.0),\n",
       " np.float64(228.0),\n",
       " np.float64(229.0),\n",
       " np.float64(230.0),\n",
       " np.float64(231.0),\n",
       " np.float64(232.0),\n",
       " np.float64(233.0),\n",
       " np.float64(234.0),\n",
       " np.float64(235.0),\n",
       " np.float64(236.0),\n",
       " np.float64(237.0),\n",
       " np.float64(239.0),\n",
       " np.float64(240.0),\n",
       " np.float64(241.0),\n",
       " np.float64(242.0),\n",
       " np.float64(444.0)]"
      ]
     },
     "execution_count": 29,
     "metadata": {},
     "output_type": "execute_result"
    }
   ],
   "source": [
    "sorted(merged_df['date_unregistration'].unique())"
   ]
  },
  {
   "cell_type": "code",
   "execution_count": null,
   "id": "6bb3ebd3",
   "metadata": {},
   "outputs": [
    {
     "data": {
      "text/plain": [
       "final_result\n",
       "Withdrawn    10063\n",
       "Fail             9\n",
       "Name: count, dtype: int64"
      ]
     },
     "execution_count": 48,
     "metadata": {},
     "output_type": "execute_result"
    }
   ],
   "source": [
    "# merged_df[\"final_result\"].isna([merged_df['date_unregistration'] == 0])\n",
    "# df[df['결측치열'].isna()][['열']]\n",
    "# unique_result = df[df['date_unregistration'].isna()]['final_result'].unique()\n",
    "merged_df[merged_df['date_unregistration'].notnull()][\"final_result\"].value_counts()\n"
   ]
  },
  {
   "cell_type": "code",
   "execution_count": 49,
   "id": "1b20339f",
   "metadata": {},
   "outputs": [
    {
     "data": {
      "text/plain": [
       "final_result\n",
       "Withdrawn    39\n",
       "Fail          5\n",
       "Pass          1\n",
       "Name: count, dtype: int64"
      ]
     },
     "execution_count": 49,
     "metadata": {},
     "output_type": "execute_result"
    }
   ],
   "source": [
    "merged_df[merged_df['date_registration'].isna()][\"final_result\"].value_counts()\n"
   ]
  },
  {
   "cell_type": "code",
   "execution_count": null,
   "id": "e08f3af3",
   "metadata": {},
   "outputs": [
    {
     "data": {
      "text/html": [
       "<div>\n",
       "<style scoped>\n",
       "    .dataframe tbody tr th:only-of-type {\n",
       "        vertical-align: middle;\n",
       "    }\n",
       "\n",
       "    .dataframe tbody tr th {\n",
       "        vertical-align: top;\n",
       "    }\n",
       "\n",
       "    .dataframe thead th {\n",
       "        text-align: right;\n",
       "    }\n",
       "</style>\n",
       "<table border=\"1\" class=\"dataframe\">\n",
       "  <thead>\n",
       "    <tr style=\"text-align: right;\">\n",
       "      <th></th>\n",
       "      <th>code_module</th>\n",
       "      <th>code_presentation</th>\n",
       "      <th>id_student</th>\n",
       "      <th>gender</th>\n",
       "      <th>region</th>\n",
       "      <th>highest_education</th>\n",
       "      <th>imd_band</th>\n",
       "      <th>age_band</th>\n",
       "      <th>num_of_prev_attempts</th>\n",
       "      <th>studied_credits</th>\n",
       "      <th>disability</th>\n",
       "      <th>final_result</th>\n",
       "      <th>date_registration</th>\n",
       "      <th>date_unregistration</th>\n",
       "      <th>sum_click</th>\n",
       "      <th>avg_score</th>\n",
       "      <th>banked_ratio</th>\n",
       "      <th>is_dropout</th>\n",
       "    </tr>\n",
       "  </thead>\n",
       "  <tbody>\n",
       "  </tbody>\n",
       "</table>\n",
       "</div>"
      ],
      "text/plain": [
       "Empty DataFrame\n",
       "Columns: [code_module, code_presentation, id_student, gender, region, highest_education, imd_band, age_band, num_of_prev_attempts, studied_credits, disability, final_result, date_registration, date_unregistration, sum_click, avg_score, banked_ratio, is_dropout]\n",
       "Index: []"
      ]
     },
     "execution_count": 32,
     "metadata": {},
     "output_type": "execute_result"
    }
   ],
   "source": [
    "import numpy as np\n",
    "zero_rows = merged_df[merged_df['date_unregistration']]\n",
    "zero_rows\n",
    "# zero_rows[\"final_result\"].unique()"
   ]
  },
  {
   "cell_type": "code",
   "execution_count": 3,
   "id": "5534d986",
   "metadata": {},
   "outputs": [
    {
     "data": {
      "text/plain": [
       "code_module                 0\n",
       "code_presentation           0\n",
       "id_student                  0\n",
       "gender                      0\n",
       "region                      0\n",
       "highest_education           0\n",
       "imd_band                 1111\n",
       "age_band                    0\n",
       "num_of_prev_attempts        0\n",
       "studied_credits             0\n",
       "disability                  0\n",
       "final_result                0\n",
       "date_registration          45\n",
       "date_unregistration     22521\n",
       "sum_click                   0\n",
       "avg_score                   0\n",
       "banked_ratio                0\n",
       "is_dropout                  0\n",
       "dtype: int64"
      ]
     },
     "execution_count": 3,
     "metadata": {},
     "output_type": "execute_result"
    }
   ],
   "source": [
    "merged_df.isnull().sum()"
   ]
  },
  {
   "cell_type": "code",
   "execution_count": 9,
   "id": "23f22b21",
   "metadata": {},
   "outputs": [
    {
     "data": {
      "text/plain": [
       "code_module             32593\n",
       "code_presentation       32593\n",
       "id_student              32593\n",
       "gender                  32593\n",
       "region                  32593\n",
       "highest_education       32593\n",
       "imd_band                31482\n",
       "age_band                32593\n",
       "num_of_prev_attempts    32593\n",
       "studied_credits         32593\n",
       "disability              32593\n",
       "final_result            32593\n",
       "date_registration       32548\n",
       "date_unregistration     10072\n",
       "sum_click               32593\n",
       "avg_score               32593\n",
       "banked_ratio            32593\n",
       "is_dropout              32593\n",
       "dtype: int64"
      ]
     },
     "execution_count": 9,
     "metadata": {},
     "output_type": "execute_result"
    }
   ],
   "source": [
    "merged_df.notnull().sum()"
   ]
  },
  {
   "cell_type": "code",
   "execution_count": null,
   "id": "0e585ec3",
   "metadata": {},
   "outputs": [],
   "source": [
    "merged_df['']"
   ]
  },
  {
   "cell_type": "code",
   "execution_count": null,
   "id": "1a488ad9",
   "metadata": {},
   "outputs": [],
   "source": []
  },
  {
   "cell_type": "code",
   "execution_count": 4,
   "id": "a3144bf8",
   "metadata": {},
   "outputs": [
    {
     "name": "stdout",
     "output_type": "stream",
     "text": [
      "Collecting scikit-learn\n",
      "  Downloading scikit_learn-1.6.1-cp313-cp313-win_amd64.whl.metadata (15 kB)\n",
      "Requirement already satisfied: numpy>=1.19.5 in c:\\users\\playdata\\myenv\\lib\\site-packages (from scikit-learn) (2.2.5)\n",
      "Collecting scipy>=1.6.0 (from scikit-learn)\n",
      "  Downloading scipy-1.15.3-cp313-cp313-win_amd64.whl.metadata (60 kB)\n",
      "Collecting joblib>=1.2.0 (from scikit-learn)\n",
      "  Downloading joblib-1.5.0-py3-none-any.whl.metadata (5.6 kB)\n",
      "Collecting threadpoolctl>=3.1.0 (from scikit-learn)\n",
      "  Using cached threadpoolctl-3.6.0-py3-none-any.whl.metadata (13 kB)\n",
      "Downloading scikit_learn-1.6.1-cp313-cp313-win_amd64.whl (11.1 MB)\n",
      "   ---------------------------------------- 0.0/11.1 MB ? eta -:--:--\n",
      "   ------------- -------------------------- 3.7/11.1 MB 19.2 MB/s eta 0:00:01\n",
      "   ------------------------- -------------- 7.1/11.1 MB 17.7 MB/s eta 0:00:01\n",
      "   ------------------------------------- -- 10.5/11.1 MB 19.4 MB/s eta 0:00:01\n",
      "   ---------------------------------------- 11.1/11.1 MB 15.9 MB/s eta 0:00:00\n",
      "Downloading joblib-1.5.0-py3-none-any.whl (307 kB)\n",
      "Downloading scipy-1.15.3-cp313-cp313-win_amd64.whl (41.0 MB)\n",
      "   ---------------------------------------- 0.0/41.0 MB ? eta -:--:--\n",
      "   ----- ---------------------------------- 5.2/41.0 MB 33.5 MB/s eta 0:00:02\n",
      "   ------- -------------------------------- 7.3/41.0 MB 16.8 MB/s eta 0:00:03\n",
      "   ----------- ---------------------------- 12.1/41.0 MB 18.8 MB/s eta 0:00:02\n",
      "   --------------- ------------------------ 16.0/41.0 MB 18.9 MB/s eta 0:00:02\n",
      "   ------------------ --------------------- 18.6/41.0 MB 17.8 MB/s eta 0:00:02\n",
      "   ---------------------- ----------------- 22.5/41.0 MB 18.2 MB/s eta 0:00:02\n",
      "   ------------------------- -------------- 26.2/41.0 MB 18.1 MB/s eta 0:00:01\n",
      "   ---------------------------- ----------- 29.6/41.0 MB 17.6 MB/s eta 0:00:01\n",
      "   --------------------------------- ------ 34.1/41.0 MB 18.2 MB/s eta 0:00:01\n",
      "   ------------------------------------- -- 38.5/41.0 MB 18.4 MB/s eta 0:00:01\n",
      "   ---------------------------------------- 41.0/41.0 MB 18.4 MB/s eta 0:00:00\n",
      "Using cached threadpoolctl-3.6.0-py3-none-any.whl (18 kB)\n",
      "Installing collected packages: threadpoolctl, scipy, joblib, scikit-learn\n",
      "Successfully installed joblib-1.5.0 scikit-learn-1.6.1 scipy-1.15.3 threadpoolctl-3.6.0\n",
      "Note: you may need to restart the kernel to use updated packages.\n"
     ]
    },
    {
     "name": "stderr",
     "output_type": "stream",
     "text": [
      "\n",
      "[notice] A new release of pip is available: 24.3.1 -> 25.1.1\n",
      "[notice] To update, run: python.exe -m pip install --upgrade pip\n"
     ]
    }
   ],
   "source": [
    "%pip install scikit-learn"
   ]
  },
  {
   "cell_type": "code",
   "execution_count": 5,
   "id": "5e1f2677",
   "metadata": {},
   "outputs": [],
   "source": [
    "from sklearn.compose import ColumnTransformer\n",
    "from sklearn.impute import SimpleImputer   # 결측치값 대체.\n",
    "from sklearn.preprocessing import OneHotEncoder, StandardScaler, MinMaxScaler\n",
    "from sklearn.pipeline import Pipeline"
   ]
  },
  {
   "cell_type": "code",
   "execution_count": 8,
   "id": "ca916fc6",
   "metadata": {},
   "outputs": [
    {
     "data": {
      "text/plain": [
       "final_result\n",
       "Pass           12361\n",
       "Withdrawn      10156\n",
       "Fail            7052\n",
       "Distinction     3024\n",
       "Name: count, dtype: int64"
      ]
     },
     "execution_count": 8,
     "metadata": {},
     "output_type": "execute_result"
    }
   ],
   "source": [
    "merged_df[\"final_result\"].value_counts()"
   ]
  },
  {
   "cell_type": "code",
   "execution_count": 6,
   "id": "eb4dd776",
   "metadata": {},
   "outputs": [
    {
     "data": {
      "text/plain": [
       "imd_band\n",
       "20-30%     3654\n",
       "30-40%     3539\n",
       "10-20      3516\n",
       "0-10%      3311\n",
       "40-50%     3256\n",
       "50-60%     3124\n",
       "60-70%     2905\n",
       "70-80%     2879\n",
       "80-90%     2762\n",
       "90-100%    2536\n",
       "Name: count, dtype: int64"
      ]
     },
     "execution_count": 6,
     "metadata": {},
     "output_type": "execute_result"
    }
   ],
   "source": [
    "merged_df[\"imd_band\"].value_counts()"
   ]
  },
  {
   "cell_type": "code",
   "execution_count": 57,
   "id": "d47ead34",
   "metadata": {},
   "outputs": [
    {
     "data": {
      "text/plain": [
       "banked_ratio\n",
       "0.000000    31605\n",
       "0.500000      287\n",
       "0.333333       73\n",
       "1.000000       61\n",
       "0.250000       57\n",
       "            ...  \n",
       "0.777778        1\n",
       "0.700000        1\n",
       "0.833333        1\n",
       "0.857143        1\n",
       "0.875000        1\n",
       "Name: count, Length: 68, dtype: int64"
      ]
     },
     "execution_count": 57,
     "metadata": {},
     "output_type": "execute_result"
    }
   ],
   "source": [
    "merged_df[\"banked_ratio\"].value_counts()"
   ]
  },
  {
   "cell_type": "code",
   "execution_count": 58,
   "id": "30cb6e58",
   "metadata": {},
   "outputs": [
    {
     "name": "stdout",
     "output_type": "stream",
     "text": [
      "<class 'pandas.core.frame.DataFrame'>\n",
      "RangeIndex: 32593 entries, 0 to 32592\n",
      "Data columns (total 18 columns):\n",
      " #   Column                Non-Null Count  Dtype  \n",
      "---  ------                --------------  -----  \n",
      " 0   code_module           32593 non-null  object \n",
      " 1   code_presentation     32593 non-null  object \n",
      " 2   id_student            32593 non-null  int64  \n",
      " 3   gender                32593 non-null  object \n",
      " 4   region                32593 non-null  object \n",
      " 5   highest_education     32593 non-null  object \n",
      " 6   imd_band              31482 non-null  object \n",
      " 7   age_band              32593 non-null  object \n",
      " 8   num_of_prev_attempts  32593 non-null  int64  \n",
      " 9   studied_credits       32593 non-null  int64  \n",
      " 10  disability            32593 non-null  object \n",
      " 11  date_registration     32548 non-null  float64\n",
      " 12  date_unregistration   10072 non-null  float64\n",
      " 13  sum_click             32593 non-null  float64\n",
      " 14  avg_score             32593 non-null  float64\n",
      " 15  banked_ratio          32593 non-null  float64\n",
      " 16  is_dropout            32593 non-null  int64  \n",
      " 17  target                32593 non-null  int64  \n",
      "dtypes: float64(5), int64(5), object(8)\n",
      "memory usage: 4.5+ MB\n"
     ]
    }
   ],
   "source": [
    "merged_df.info()"
   ]
  },
  {
   "cell_type": "code",
   "execution_count": null,
   "id": "a9d634fd",
   "metadata": {},
   "outputs": [
    {
     "data": {
      "text/plain": [
       "date_registration\n",
       "-22.0     1034\n",
       "-29.0      982\n",
       "-24.0      741\n",
       "-25.0      730\n",
       "-23.0      729\n",
       "          ... \n",
       "-275.0       1\n",
       " 83.0        1\n",
       " 40.0        1\n",
       " 18.0        1\n",
       " 110.0       1\n",
       "Name: count, Length: 332, dtype: int64"
      ]
     },
     "execution_count": 63,
     "metadata": {},
     "output_type": "execute_result"
    }
   ],
   "source": [
    "merged_df['date_registration'].isnull().value_counts()"
   ]
  },
  {
   "cell_type": "code",
   "execution_count": null,
   "id": "c3831834",
   "metadata": {},
   "outputs": [],
   "source": [
    "categorical_columns = ['code_module','code_presentation','id_student','gender','region','highest_education', 'imd_band', 'age_band', 'num_of_prev_attempts', 'disability', 'is_dropout']\n",
    "numeric_columns = ['studied_credits', 'date_registration', 'date_unregistration', 'sum_click', 'avg_score', 'banked_ratio']\n",
    "target = \"target\"  # index =17\n",
    "\n",
    "categorical_columns_index = [0, 1, 2, 3, 4, 5, 6, 7, 8, 10,16]\n",
    "numeric_columns_index = [9,11,12,13,14,15]"
   ]
  },
  {
   "cell_type": "code",
   "execution_count": null,
   "id": "e51b3569",
   "metadata": {},
   "outputs": [
    {
     "data": {
      "text/plain": [
       "array([['90-100%', -159.0],\n",
       "       ['20-30%', -53.0],\n",
       "       ['30-40%', -92.0],\n",
       "       ...,\n",
       "       ['20-30%', -129.0],\n",
       "       ['90-100%', -49.0],\n",
       "       ['50-60%', -28.0]], shape=(32593, 2), dtype=object)"
      ]
     },
     "execution_count": 65,
     "metadata": {},
     "output_type": "execute_result"
    }
   ],
   "source": [
    "###############################\n",
    "#결측치 처리\n",
    "#결측치 처리 컬럼: imd_band(범주형 -> 최빈값으로 처리), date_registration(수치형 -> mean으로 처리)\n",
    "# date_unregisitration(9999값으로 채우기)\n",
    "merged_df[\"date_unregistration\"] = merged_df[\"date_unregistration\"].fillna(9999)\n",
    "merged_df\n",
    "na_transformer = ColumnTransformer([\n",
    "    (\"category_imputer\", SimpleImputer(strategy=\"most_frequent\"), [6]),      # imd_band\n",
    "    (\"number_imputer\", SimpleImputer(strategy=\"mean\"), [11])\n",
    "]) #, remainder= \"passthrough\")     # 전처리를 안한 값 중에서 drop 안하고 남기고 싶을 경우\n",
    "na_values = na_transformer.fit_transform(merged_df)\n",
    "na_values"
   ]
  },
  {
   "cell_type": "code",
   "execution_count": 68,
   "id": "c7f1f3fa",
   "metadata": {},
   "outputs": [
    {
     "data": {
      "text/plain": [
       "code_module                0\n",
       "code_presentation          0\n",
       "id_student                 0\n",
       "gender                     0\n",
       "region                     0\n",
       "highest_education          0\n",
       "imd_band                1111\n",
       "age_band                   0\n",
       "num_of_prev_attempts       0\n",
       "studied_credits            0\n",
       "disability                 0\n",
       "date_registration         45\n",
       "date_unregistration        0\n",
       "sum_click                  0\n",
       "avg_score                  0\n",
       "banked_ratio               0\n",
       "is_dropout                 0\n",
       "target                     0\n",
       "dtype: int64"
      ]
     },
     "execution_count": 68,
     "metadata": {},
     "output_type": "execute_result"
    }
   ],
   "source": [
    "merged_df.isnull().sum()\n"
   ]
  },
  {
   "cell_type": "code",
   "execution_count": null,
   "id": "56edf80a",
   "metadata": {},
   "outputs": [],
   "source": [
    "### Feature Engineering - 컬럼별로 다르게 처리.\n",
    "fe_transformer = ColumnTransformer([\n",
    "    (\"category_ohe\", OneHotEncoder(), categorical_columns),# feature의 index로 지정.   # index는 앞에 했던 배열로 적용해줘야함.\n",
    "    (\"number_scaler\", StandardScaler(), numeric_columns),    #feature Scaling은 연속형끼리 같은 방식을 사용 (standard or MinMax 중 택1)\n",
    "    (\"number_scaler2\", MinMaxScaler(), [3])   \n",
    "])\n",
    "### DataFrame이 입력일 경우 컬럼명이나 컬럼 index를 지정할 수 있다.\n",
    "### ndarray가 입력일 경우 컬럼(feature) index를 지정.\n",
    "fe_transformer.fit_transform(na_values)"
   ]
  },
  {
   "cell_type": "code",
   "execution_count": null,
   "id": "bbc803f9",
   "metadata": {},
   "outputs": [],
   "source": [
    "transformer_pipeline = Pipeline([\n",
    "    (\"step1\", na_transformer), \n",
    "    (\"step2\", fe_transformer)\n",
    "])"
   ]
  },
  {
   "cell_type": "code",
   "execution_count": null,
   "id": "069fd824",
   "metadata": {},
   "outputs": [],
   "source": [
    "transformer_pipeline.fit_transform(df)"
   ]
  }
 ],
 "metadata": {
  "kernelspec": {
   "display_name": "myenv",
   "language": "python",
   "name": "python3"
  },
  "language_info": {
   "codemirror_mode": {
    "name": "ipython",
    "version": 3
   },
   "file_extension": ".py",
   "mimetype": "text/x-python",
   "name": "python",
   "nbconvert_exporter": "python",
   "pygments_lexer": "ipython3",
   "version": "3.13.2"
  }
 },
 "nbformat": 4,
 "nbformat_minor": 5
}
