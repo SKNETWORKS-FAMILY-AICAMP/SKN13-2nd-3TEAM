{
 "cells": [
  {
   "cell_type": "code",
   "execution_count": 7,
   "id": "68b601df",
   "metadata": {},
   "outputs": [],
   "source": [
    "import pandas as pd\n",
    "from sklearn.compose import ColumnTransformer\n",
    "from sklearn.impute import SimpleImputer   # 결측치값 대체.\n",
    "from sklearn.preprocessing import OneHotEncoder, StandardScaler, MinMaxScaler\n",
    "from sklearn.pipeline import Pipeline"
   ]
  },
  {
   "cell_type": "code",
   "execution_count": 8,
   "id": "315f885e",
   "metadata": {},
   "outputs": [
    {
     "data": {
      "text/plain": [
       "((32545, 16), (32545,))"
      ]
     },
     "execution_count": 8,
     "metadata": {},
     "output_type": "execute_result"
    }
   ],
   "source": [
    "df = pd.read_csv(\"../data/final_dataset.csv\")\n",
    "X = df.drop(columns='target').values\n",
    "y = df['target']\n",
    "\n",
    "X.shape,  y.shape"
   ]
  },
  {
   "cell_type": "code",
   "execution_count": 9,
   "id": "d0a4da23",
   "metadata": {},
   "outputs": [
    {
     "name": "stdout",
     "output_type": "stream",
     "text": [
      "<Compressed Sparse Row sparse matrix of dtype 'float64'\n",
      "\twith 488169 stored elements and shape (32545, 60)>\n",
      "  Coords\tValues\n",
      "  (0, 0)\t1.0\n",
      "  (0, 8)\t1.0\n",
      "  (0, 12)\t1.0\n",
      "  (0, 13)\t1.0\n",
      "  (0, 29)\t1.0\n",
      "  (0, 40)\t1.0\n",
      "  (0, 43)\t1.0\n",
      "  (0, 44)\t1.0\n",
      "  (0, 51)\t1.0\n",
      "  (0, 53)\t1.0\n",
      "  (0, 55)\t3.905125197007625\n",
      "  (0, 56)\t-1.8185928989610989\n",
      "  (0, 57)\t0.6671221427396934\n",
      "  (0, 58)\t-0.1670317117402033\n",
      "  (0, 59)\t0.7100890620793591\n",
      "  (1, 0)\t1.0\n",
      "  (1, 8)\t1.0\n",
      "  (1, 11)\t1.0\n",
      "  (1, 19)\t1.0\n",
      "  (1, 29)\t1.0\n",
      "  (1, 33)\t1.0\n",
      "  (1, 42)\t1.0\n",
      "  (1, 44)\t1.0\n",
      "  (1, 51)\t1.0\n",
      "  (1, 53)\t1.0\n",
      "  :\t:\n",
      "  (32543, 40)\t1.0\n",
      "  (32543, 42)\t1.0\n",
      "  (32543, 44)\t1.0\n",
      "  (32543, 51)\t1.0\n",
      "  (32543, 54)\t1.0\n",
      "  (32543, 55)\t-1.211159957215567\n",
      "  (32543, 56)\t0.4144516877944941\n",
      "  (32543, 57)\t-1.487791864498921\n",
      "  (32543, 58)\t-0.5562260670917427\n",
      "  (32543, 59)\t1.0137563256706723\n",
      "  (32544, 6)\t1.0\n",
      "  (32544, 10)\t1.0\n",
      "  (32544, 11)\t1.0\n",
      "  (32544, 25)\t1.0\n",
      "  (32544, 29)\t1.0\n",
      "  (32544, 36)\t1.0\n",
      "  (32544, 42)\t1.0\n",
      "  (32544, 44)\t1.0\n",
      "  (32544, 51)\t1.0\n",
      "  (32544, 53)\t1.0\n",
      "  (32544, 55)\t-1.211159957215567\n",
      "  (32544, 56)\t0.8407601998114709\n",
      "  (32544, 57)\t0.6671221427396934\n",
      "  (32544, 58)\t-0.3548371821526305\n",
      "  (32544, 59)\t0.7374876121778235\n"
     ]
    }
   ],
   "source": [
    "fe_transformer = ColumnTransformer([\n",
    "    (\"category_ohe\", OneHotEncoder(), [0, 1, 3, 4, 5, 6, 7, 8, 10,15]),# feature의 index로 지정.   # index는 앞에 했던 배열로 적용해줘야함.\n",
    "    (\"number_scaler\", StandardScaler(), [9,11,12,13,14])    #feature Scaling은 연속형끼리 같은 방식을 사용 (standard or MinMax 중 택1)\n",
    "])\n",
    "### DataFrame이 입력일 경우 컬럼명이나 컬럼 index를 지정할 수 있다.\n",
    "### ndarray가 입력일 경우 컬럼(feature) index를 지정.\n",
    "new_merged_df = fe_transformer.fit_transform(X)\n",
    "print(new_merged_df)"
   ]
  },
  {
   "cell_type": "code",
   "execution_count": 10,
   "id": "0a7b3dff",
   "metadata": {},
   "outputs": [
    {
     "data": {
      "text/plain": [
       "<Compressed Sparse Row sparse matrix of dtype 'float64'\n",
       "\twith 488169 stored elements and shape (32545, 60)>"
      ]
     },
     "execution_count": 10,
     "metadata": {},
     "output_type": "execute_result"
    }
   ],
   "source": [
    "X = new_merged_df\n",
    "X"
   ]
  },
  {
   "cell_type": "code",
   "execution_count": 11,
   "id": "1c84cc55",
   "metadata": {},
   "outputs": [],
   "source": [
    "from sklearn.model_selection import train_test_split\n",
    "X_train, X_test, y_train, y_test = train_test_split(X, y, test_size=0.25, stratify=y, random_state=0)"
   ]
  },
  {
   "cell_type": "code",
   "execution_count": 12,
   "id": "a5ee1a22",
   "metadata": {},
   "outputs": [
    {
     "name": "stdout",
     "output_type": "stream",
     "text": [
      "\n",
      "bestTest = 0.8691110201\n",
      "bestIteration = 148\n",
      "\n",
      "0:\tloss: 0.8691110\tbest: 0.8691110 (0)\ttotal: 1.11s\tremaining: 9.96s\n",
      "\n",
      "bestTest = 0.8633756657\n",
      "bestIteration = 95\n",
      "\n",
      "1:\tloss: 0.8633757\tbest: 0.8691110 (0)\ttotal: 1.78s\tremaining: 7.13s\n",
      "\n",
      "bestTest = 0.8816058992\n",
      "bestIteration = 105\n",
      "\n",
      "2:\tloss: 0.8816059\tbest: 0.8816059 (2)\ttotal: 2.32s\tremaining: 5.42s\n",
      "\n",
      "bestTest = 0.8869315854\n",
      "bestIteration = 172\n",
      "\n",
      "3:\tloss: 0.8869316\tbest: 0.8869316 (3)\ttotal: 3.44s\tremaining: 5.16s\n",
      "\n",
      "bestTest = 0.8857025809\n",
      "bestIteration = 273\n",
      "\n",
      "4:\tloss: 0.8857026\tbest: 0.8869316 (3)\ttotal: 4.91s\tremaining: 4.91s\n",
      "\n",
      "bestTest = 0.8969684556\n",
      "bestIteration = 161\n",
      "\n",
      "5:\tloss: 0.8969685\tbest: 0.8969685 (5)\ttotal: 5.88s\tremaining: 3.92s\n",
      "\n",
      "bestTest = 0.878533388\n",
      "bestIteration = 281\n",
      "\n",
      "6:\tloss: 0.8785334\tbest: 0.8969685 (5)\ttotal: 8.12s\tremaining: 3.48s\n",
      "\n",
      "bestTest = 0.8816058992\n",
      "bestIteration = 132\n",
      "\n",
      "7:\tloss: 0.8816059\tbest: 0.8969685 (5)\ttotal: 9.05s\tremaining: 2.26s\n",
      "\n",
      "bestTest = 0.890823433\n",
      "bestIteration = 246\n",
      "\n",
      "8:\tloss: 0.8908234\tbest: 0.8969685 (5)\ttotal: 11s\tremaining: 1.22s\n",
      "\n",
      "bestTest = 0.8697255223\n",
      "bestIteration = 18\n",
      "\n",
      "9:\tloss: 0.8697255\tbest: 0.8969685 (5)\ttotal: 13s\tremaining: 0us\n",
      "Estimating final quality...\n",
      "Training on fold [0/3]\n",
      "\n",
      "bestTest = 0.8906096362\n",
      "bestIteration = 147\n",
      "\n",
      "Training on fold [1/3]\n",
      "\n",
      "bestTest = 0.8993362832\n",
      "bestIteration = 166\n",
      "\n",
      "Training on fold [2/3]\n",
      "\n",
      "bestTest = 0.8944198623\n",
      "bestIteration = 146\n",
      "\n",
      "              precision    recall  f1-score   support\n",
      "\n",
      "           0       0.86      0.94      0.90      3847\n",
      "           1       0.94      0.86      0.90      4290\n",
      "\n",
      "    accuracy                           0.90      8137\n",
      "   macro avg       0.90      0.90      0.90      8137\n",
      "weighted avg       0.90      0.90      0.90      8137\n",
      "\n"
     ]
    }
   ],
   "source": [
    "from catboost import CatBoostClassifier, Pool\n",
    "from scipy.stats import randint, loguniform\n",
    "import numpy as np\n",
    "import pandas as pd\n",
    "\n",
    "# 1. 데이터셋 준비 (X_train, y_train / X_test, y_test 등)\n",
    "# 이미 X_train, y_train 준비된 상태라고 가정\n",
    "\n",
    "# 2. 파라미터 샘플링 범위 설정\n",
    "param_grid = {\n",
    "    'iterations': randint(100, 300),\n",
    "    'depth': randint(1, 5),\n",
    "    'learning_rate': loguniform(1e-3, 0.1),\n",
    "    'min_data_in_leaf': randint(10, 40),\n",
    "    'grow_policy': ['SymmetricTree', 'Lossguide', 'Depthwise']\n",
    "}\n",
    "\n",
    "# 3. CatBoostClassifier 인스턴스 생성\n",
    "model_cat = CatBoostClassifier(\n",
    "    verbose=0,\n",
    "    random_seed=42,\n",
    "    task_type='CPU',\n",
    "    loss_function='Logloss',\n",
    "    eval_metric='Accuracy'\n",
    ")\n",
    "\n",
    "# 4. 데이터 Pool 객체로 래핑 (CatBoost 내부 최적화에 사용)\n",
    "train_pool = Pool(data=X_train, label=y_train)\n",
    "\n",
    "# 5. random search 수행 (n_iter = 시도 횟수)\n",
    "model_cat.randomized_search(param_grid,\n",
    "                            X=train_pool,\n",
    "                            cv=3,\n",
    "                            n_iter=10,\n",
    "                            partition_random_seed=42,\n",
    "                            calc_cv_statistics=True,\n",
    "                            refit=True,\n",
    "                            shuffle=True,\n",
    "                            stratified=True,\n",
    "                            verbose=1)\n",
    "\n",
    "# 6. 최적 파라미터로 전체 데이터 학습\n",
    "model_cat.fit(X_train, y_train, verbose=0)\n",
    "\n",
    "# 7. 예측 및 평가\n",
    "y_pred = model_cat.predict(X_test)\n",
    "\n",
    "from sklearn.metrics import classification_report\n",
    "print(classification_report(y_test, y_pred))\n"
   ]
  },
  {
   "cell_type": "code",
   "execution_count": null,
   "id": "67dd6ef5",
   "metadata": {},
   "outputs": [],
   "source": []
  }
 ],
 "metadata": {
  "kernelspec": {
   "display_name": "myenv",
   "language": "python",
   "name": "python3"
  },
  "language_info": {
   "codemirror_mode": {
    "name": "ipython",
    "version": 3
   },
   "file_extension": ".py",
   "mimetype": "text/x-python",
   "name": "python",
   "nbconvert_exporter": "python",
   "pygments_lexer": "ipython3",
   "version": "3.13.2"
  }
 },
 "nbformat": 4,
 "nbformat_minor": 5
}
