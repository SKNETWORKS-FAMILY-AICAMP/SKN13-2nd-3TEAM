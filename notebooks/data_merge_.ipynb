{
 "cells": [
  {
   "cell_type": "code",
   "execution_count": 2,
   "id": "9045c348",
   "metadata": {},
   "outputs": [],
   "source": [
    "studentInfo = pd.read_csv(\"../data/studentInfo.csv\")\n",
    "studentRegistration = pd.read_csv(\"../data/studentRegistration.csv\")\n",
    "studentVle = pd.read_csv(\"../data/studentVle.csv\")\n",
    "studentAssessment = pd.read_csv(\"../data/studentAssessment.csv\")"
   ]
  },
  {
   "cell_type": "code",
   "execution_count": 19,
   "id": "e009d71e",
   "metadata": {},
   "outputs": [],
   "source": [
    "import pandas as pd\n",
    "\n",
    "# Load CSVs\n",
    "studentInfo = pd.read_csv(\"../data/studentInfo.csv\")\n",
    "studentRegistration = pd.read_csv(\"../data/studentRegistration.csv\")\n",
    "studentVle = pd.read_csv(\"../data/studentVle.csv\")\n",
    "studentAssessment = pd.read_csv(\"../data/studentAssessment.csv\")\n",
    "\n",
    "\n",
    "# 1. studentInfo ← 기준 테이블\n",
    "merged_df = studentInfo.copy()\n",
    "\n",
    "# 2. studentRegistration ← 동일 키 기준 병합\n",
    "merged_df = merged_df.merge(\n",
    "    studentRegistration[[\"id_student\", \"code_module\", \"code_presentation\", \"date_registration\", \"date_unregistration\"]],\n",
    "    on=[\"id_student\", \"code_module\", \"code_presentation\"],\n",
    "    how=\"left\"\n",
    ")\n",
    "\n",
    "# 3. studentVle ← sum_click 총합을 먼저 집계 후 병합\n",
    "vle_grouped = studentVle.groupby(\n",
    "    [\"id_student\", \"code_module\", \"code_presentation\"]\n",
    ")[\"sum_click\"].sum().reset_index()\n",
    "\n",
    "merged_df = merged_df.merge(\n",
    "    vle_grouped,\n",
    "    on=[\"id_student\", \"code_module\", \"code_presentation\"],\n",
    "    how=\"left\"\n",
    ")\n",
    "merged_df\n",
    "# # \"id_assessment\",\"id_student\",\"date_submitted\",\"is_banked\",\"score\"\n",
    "# # # 4. studentAssessment ← 학습자별 평균 점수 및 제출률 계산\n",
    "studentAssessment[\"score\"] = pd.to_numeric(studentAssessment[\"score\"], errors=\"coerce\")\n",
    "studentAssessment[\"is_banked\"] = pd.to_numeric(studentAssessment[\"is_banked\"], errors=\"coerce\")\n",
    "\n",
    "assess_grouped = studentAssessment.groupby(\n",
    "    [\"id_student\"]\n",
    ").agg({\n",
    "    \"score\": \"mean\",\n",
    "    \"is_banked\": \"mean\"\n",
    "}).reset_index().rename(columns={\n",
    "    \"score\": \"avg_score\",\n",
    "    \"is_banked\": \"banked_ratio\"\n",
    "})\n",
    "assess_grouped\n",
    "merged_df = merged_df.merge(\n",
    "    assess_grouped,\n",
    "    on=[\"id_student\"],\n",
    "    how=\"left\"\n",
    ")\n",
    "merged_df\n",
    "merged_df.to_csv(\"../data/merged_dataset.csv\", index=False, encoding=\"utf-8-sig\")\n",
    "# # # 5. 이탈 여부 라벨 생성\n",
    "# # merged_df[\"is_dropout\"] = merged_df[\"date_unregistration\"].notna().astype(int)\n",
    "\n",
    "# # # 6. 결측값 처리\n",
    "# # merged_df[\"sum_click\"] = merged_df[\"sum_click\"].fillna(0)\n",
    "# # merged_df[\"avg_score\"] = merged_df[\"avg_score\"].fillna(0)\n",
    "# # merged_df[\"banked_ratio\"] = merged_df[\"banked_ratio\"].fillna(0)\n",
    "\n",
    "\n",
    "# # 8. 최종 확인\n",
    "# print(merged_df.head())\n"
   ]
  },
  {
   "cell_type": "code",
   "execution_count": null,
   "id": "e4e3a7d4",
   "metadata": {},
   "outputs": [],
   "source": []
  }
 ],
 "metadata": {
  "kernelspec": {
   "display_name": "myenv",
   "language": "python",
   "name": "python3"
  },
  "language_info": {
   "codemirror_mode": {
    "name": "ipython",
    "version": 3
   },
   "file_extension": ".py",
   "mimetype": "text/x-python",
   "name": "python",
   "nbconvert_exporter": "python",
   "pygments_lexer": "ipython3",
   "version": "3.13.2"
  }
 },
 "nbformat": 4,
 "nbformat_minor": 5
}
