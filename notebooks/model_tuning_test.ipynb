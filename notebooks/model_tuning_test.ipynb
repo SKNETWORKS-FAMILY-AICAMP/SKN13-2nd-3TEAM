{
 "cells": [
  {
   "cell_type": "code",
   "execution_count": null,
   "id": "d317648b",
   "metadata": {},
   "outputs": [
    {
     "name": "stderr",
     "output_type": "stream",
     "text": [
      "\n",
      "Usage:   \n",
      "  pip install [options] <requirement specifier> [package-index-options] ...\n",
      "  pip install [options] -r <requirements file> [package-index-options] ...\n",
      "  pip install [options] [-e] <vcs project url> ...\n",
      "  pip install [options] [-e] <local project path> ...\n",
      "  pip install [options] <archive url/path> ...\n",
      "\n",
      "no such option: -u\n"
     ]
    }
   ],
   "source": [
    "# 테스트 데이터셋\n",
    "!pip install seaborn"
   ]
  },
  {
   "cell_type": "code",
   "execution_count": 7,
   "id": "1b52892d",
   "metadata": {},
   "outputs": [
    {
     "name": "stdout",
     "output_type": "stream",
     "text": [
      "\n",
      " >>> Tuning Decision Tree...\n",
      "Fitting 5 folds for each of 7200 candidates, totalling 36000 fits\n",
      "- Complete:18.45006초\n",
      "\n",
      " >>> Tuning Random Forest...\n",
      "Fitting 5 folds for each of 24 candidates, totalling 120 fits\n",
      "- Complete:4.14713초\n",
      "\n",
      " >>> Tuning KNN...\n",
      "Fitting 5 folds for each of 8 candidates, totalling 40 fits\n",
      "- Complete:0.08466초\n",
      "\n",
      " >>> Tuning SVM...\n",
      "Fitting 5 folds for each of 3 candidates, totalling 15 fits\n",
      "- Complete:41.12252초\n",
      "\n",
      " >>> Tuning XGBoost...\n",
      "Fitting 5 folds for each of 24 candidates, totalling 120 fits\n",
      "- Complete:0.59555초\n",
      "\n",
      "=== Final Comparison ===\n",
      "        Model                                                                       Best Params  Train Accuracy (CV)  Test Accuracy\n",
      "      XGBoost                                              {'max_depth': 2, 'n_estimators': 50}             0.825835       0.821229\n",
      "Random Forest                                             {'max_depth': 6, 'n_estimators': 100}             0.824436       0.804469\n",
      "Decision Tree {'max_depth': 3, 'max_features': 7, 'max_leaf_nodes': 10, 'min_samples_leaf': 10}             0.818822       0.793296\n",
      "          SVM                                                    {'C': 0.1, 'kernel': 'linear'}             0.787876       0.782123\n",
      "          KNN                                         {'n_neighbors': 6, 'weights': 'distance'}             0.726170       0.720670\n"
     ]
    },
    {
     "data": {
      "image/png": "[encoded data removed]",
      "text/plain": [
       "<Figure size 1000x600 with 1 Axes>"
      ]
     },
     "metadata": {},
     "output_type": "display_data"
    },
    {
     "name": "stdout",
     "output_type": "stream",
     "text": [
      "\n",
      " Decision Tree Best Model Report\n",
      "              precision    recall  f1-score   support\n",
      "\n",
      "           0       0.78      0.90      0.84       105\n",
      "           1       0.81      0.65      0.72        74\n",
      "\n",
      "    accuracy                           0.79       179\n",
      "   macro avg       0.80      0.77      0.78       179\n",
      "weighted avg       0.80      0.79      0.79       179\n",
      "\n"
     ]
    },
    {
     "ename": "TypeError",
     "evalue": "plot_confusion_matrix() got an unexpected keyword argument 'model_name'",
     "output_type": "error",
     "traceback": [
      "\u001b[31m---------------------------------------------------------------------------\u001b[39m",
      "\u001b[31mTypeError\u001b[39m                                 Traceback (most recent call last)",
      "\u001b[36mCell\u001b[39m\u001b[36m \u001b[39m\u001b[32mIn[7]\u001b[39m\u001b[32m, line 54\u001b[39m\n\u001b[32m     45\u001b[39m param_grids = {\n\u001b[32m     46\u001b[39m     \u001b[33m\"\u001b[39m\u001b[33mDecision Tree\u001b[39m\u001b[33m\"\u001b[39m: {\u001b[33m\"\u001b[39m\u001b[33mmax_depth\u001b[39m\u001b[33m\"\u001b[39m:\u001b[38;5;28mrange\u001b[39m(\u001b[32m1\u001b[39m, \u001b[32m7\u001b[39m), \u001b[33m\"\u001b[39m\u001b[33mmax_leaf_nodes\u001b[39m\u001b[33m\"\u001b[39m: \u001b[38;5;28mrange\u001b[39m(\u001b[32m10\u001b[39m, \u001b[32m56\u001b[39m, \u001b[32m5\u001b[39m), \u001b[33m\"\u001b[39m\u001b[33mmin_samples_leaf\u001b[39m\u001b[33m\"\u001b[39m: \u001b[38;5;28mrange\u001b[39m(\u001b[32m10\u001b[39m, \u001b[32m1001\u001b[39m, \u001b[32m50\u001b[39m), \u001b[33m\"\u001b[39m\u001b[33mmax_features\u001b[39m\u001b[33m\"\u001b[39m: \u001b[38;5;28mrange\u001b[39m(\u001b[32m1\u001b[39m, \u001b[32m13\u001b[39m, \u001b[32m2\u001b[39m)},\n\u001b[32m     47\u001b[39m     \u001b[33m\"\u001b[39m\u001b[33mRandom Forest\u001b[39m\u001b[33m\"\u001b[39m: {\u001b[33m'\u001b[39m\u001b[33mn_estimators\u001b[39m\u001b[33m'\u001b[39m: [\u001b[32m50\u001b[39m, \u001b[32m100\u001b[39m, \u001b[32m200\u001b[39m, \u001b[32m400\u001b[39m], \u001b[33m'\u001b[39m\u001b[33mmax_depth\u001b[39m\u001b[33m'\u001b[39m:\u001b[38;5;28mrange\u001b[39m(\u001b[32m1\u001b[39m, \u001b[32m7\u001b[39m)},\n\u001b[32m   (...)\u001b[39m\u001b[32m     50\u001b[39m     \u001b[33m\"\u001b[39m\u001b[33mXGBoost\u001b[39m\u001b[33m\"\u001b[39m: {\u001b[33m'\u001b[39m\u001b[33mn_estimators\u001b[39m\u001b[33m'\u001b[39m: [\u001b[32m50\u001b[39m, \u001b[32m100\u001b[39m, \u001b[32m200\u001b[39m, \u001b[32m400\u001b[39m], \u001b[33m'\u001b[39m\u001b[33mmax_depth\u001b[39m\u001b[33m'\u001b[39m: \u001b[38;5;28mrange\u001b[39m(\u001b[32m1\u001b[39m,\u001b[32m7\u001b[39m)}\n\u001b[32m     51\u001b[39m }\n\u001b[32m     53\u001b[39m \u001b[38;5;66;03m# 함수 실행\u001b[39;00m\n\u001b[32m---> \u001b[39m\u001b[32m54\u001b[39m results_df, best_models = \u001b[43mauto_model_tuning\u001b[49m\u001b[43m(\u001b[49m\u001b[43mbase_models\u001b[49m\u001b[43m,\u001b[49m\u001b[43m \u001b[49m\u001b[43mparam_grids\u001b[49m\u001b[43m,\u001b[49m\u001b[43m \u001b[49m\u001b[43mX\u001b[49m\u001b[43m,\u001b[49m\u001b[43m \u001b[49m\u001b[43my\u001b[49m\u001b[43m)\u001b[49m\n",
      "\u001b[36mFile \u001b[39m\u001b[32mc:\\Users\\Playdata\\OneDrive\\문서\\Project\\SKN13-2nd-3TEAM\\util\\model_tuning.py:106\u001b[39m, in \u001b[36mauto_model_tuning\u001b[39m\u001b[34m(base_models, param_grids, X, y, test_size, random_state, cv, n_jobs)\u001b[39m\n\u001b[32m    103\u001b[39m     \u001b[38;5;28mprint\u001b[39m(classification_report(y_test, y_pred))\n\u001b[32m    105\u001b[39m     \u001b[38;5;66;03m# 혼동 행렬 시각화\u001b[39;00m\n\u001b[32m--> \u001b[39m\u001b[32m106\u001b[39m     \u001b[43mplot_confusion_matrix\u001b[49m\u001b[43m(\u001b[49m\u001b[43my_test\u001b[49m\u001b[43m,\u001b[49m\u001b[43m \u001b[49m\u001b[43my_pred\u001b[49m\u001b[43m,\u001b[49m\u001b[43m \u001b[49m\u001b[43mmodel_name\u001b[49m\u001b[43m=\u001b[49m\u001b[43mmodel_name\u001b[49m\u001b[43m)\u001b[49m\n\u001b[32m    108\u001b[39m \u001b[38;5;28;01mreturn\u001b[39;00m results_df, best_estimators\n",
      "\u001b[31mTypeError\u001b[39m: plot_confusion_matrix() got an unexpected keyword argument 'model_name'"
     ]
    }
   ],
   "source": [
    "import pandas as pd\n",
    "from sklearn.datasets import load_iris\n",
    "from sklearn.tree import DecisionTreeClassifier\n",
    "from sklearn.ensemble import RandomForestClassifier\n",
    "from sklearn.neighbors import KNeighborsClassifier\n",
    "from sklearn.svm import SVC\n",
    "from xgboost import XGBClassifier\n",
    "\n",
    "import sys\n",
    "from pathlib import Path\n",
    "# 상위 폴더를 Python 경로에 추가\n",
    "sys.path.append(str(Path.cwd().parent))\n",
    "from util.model_tuning import auto_model_tuning\n",
    "\n",
    "# 테스트 데이터셋\n",
    "import seaborn as sns\n",
    "\n",
    "# 데이터 로드\n",
    "df = sns.load_dataset('titanic')\n",
    "\n",
    "# 필드 선택 및 결측치 처리\n",
    "features = ['pclass', 'sex', 'age', 'fare', 'embarked', 'alone']\n",
    "target = 'survived'\n",
    "\n",
    "X = df[features]\n",
    "y = df[target]\n",
    "\n",
    "# 범주형 변수 인코딩 (sex, embarked, alone)\n",
    "X = pd.get_dummies(X, columns=['sex', 'embarked', 'alone'])\n",
    "\n",
    "# 결측치 처리 (age, fare는 평균으로, embarked는 최빈값으로)\n",
    "X['age'] = X['age'].fillna(X['age'].mean())\n",
    "X['fare'] = X['fare'].fillna(X['fare'].mean())\n",
    "\n",
    "################################################################\n",
    "# 모델 및 파라미터 그리드 정의\n",
    "base_models = {\n",
    "    \"Decision Tree\": DecisionTreeClassifier(random_state=42),\n",
    "    \"Random Forest\": RandomForestClassifier(random_state=42),\n",
    "    \"KNN\": KNeighborsClassifier(),\n",
    "    \"SVM\": SVC(random_state=42),\n",
    "    \"XGBoost\": XGBClassifier(random_state=42)\n",
    "}\n",
    "\n",
    "param_grids = {\n",
    "    \"Decision Tree\": {\"max_depth\":range(1, 7), \"max_leaf_nodes\": range(10, 56, 5), \"min_samples_leaf\": range(10, 1001, 50), \"max_features\": range(1, 13, 2)},\n",
    "    \"Random Forest\": {'n_estimators': [50, 100, 200, 400], 'max_depth':range(1, 7)},\n",
    "    \"KNN\": {'n_neighbors': range(3,7), 'weights': ['uniform', 'distance']},\n",
    "    \"SVM\": {'C': [0.1, 1, 10], 'kernel': ['linear']},\n",
    "    \"XGBoost\": {'n_estimators': [50, 100, 200, 400], 'max_depth': range(1,7)}\n",
    "}\n",
    "\n",
    "# 함수 실행\n",
    "results_df, best_models = auto_model_tuning(base_models, param_grids, X, y)"
   ]
  }
 ],
 "metadata": {
  "kernelspec": {
   "display_name": "2nd",
   "language": "python",
   "name": "python3"
  },
  "language_info": {
   "codemirror_mode": {
    "name": "ipython",
    "version": 3
   },
   "file_extension": ".py",
   "mimetype": "text/x-python",
   "name": "python",
   "nbconvert_exporter": "python",
   "pygments_lexer": "ipython3",
   "version": "3.12.10"
  }
 },
 "nbformat": 4,
 "nbformat_minor": 5
}
