{
 "cells": [
  {
   "cell_type": "code",
   "execution_count": 1,
   "id": "61b37e3e",
   "metadata": {},
   "outputs": [],
   "source": [
    "import pandas as pd\n",
    "import numpy as np\n",
    "from sklearn.compose import ColumnTransformer\n",
    "from sklearn.impute import SimpleImputer   # 결측치값 대체.\n",
    "from sklearn.preprocessing import OneHotEncoder, StandardScaler, MinMaxScaler\n",
    "from sklearn.pipeline import Pipeline\n",
    "\n",
    "import sys\n",
    "import os\n",
    "sys.path.append(os.path.abspath(\"..\"))\n",
    "from util.data_preprocessing import preprocess_data"
   ]
  },
  {
   "cell_type": "code",
   "execution_count": 2,
   "id": "bc8c809f",
   "metadata": {},
   "outputs": [
    {
     "name": "stderr",
     "output_type": "stream",
     "text": [
      "c:\\Users\\Playdata\\OneDrive\\문서\\Project\\SKN13-2nd-3TEAM\\util\\data_preprocessing.py:49: FutureWarning: Downcasting behavior in `replace` is deprecated and will be removed in a future version. To retain the old behavior, explicitly call `result.infer_objects(copy=False)`. To opt-in to the future behavior, set `pd.set_option('future.no_silent_downcasting', True)`\n",
      "  .replace(education_order).astype(\"Int64\")\n",
      "c:\\Users\\Playdata\\OneDrive\\문서\\Project\\SKN13-2nd-3TEAM\\util\\data_preprocessing.py:54: FutureWarning: Downcasting behavior in `replace` is deprecated and will be removed in a future version. To retain the old behavior, explicitly call `result.infer_objects(copy=False)`. To opt-in to the future behavior, set `pd.set_option('future.no_silent_downcasting', True)`\n",
      "  .replace(age_map).astype(\"Int64\")\n",
      "c:\\Users\\Playdata\\OneDrive\\문서\\Project\\SKN13-2nd-3TEAM\\util\\data_preprocessing.py:59: FutureWarning: Downcasting behavior in `replace` is deprecated and will be removed in a future version. To retain the old behavior, explicitly call `result.infer_objects(copy=False)`. To opt-in to the future behavior, set `pd.set_option('future.no_silent_downcasting', True)`\n",
      "  .replace(imd_order).astype(\"Int64\")\n"
     ]
    },
    {
     "name": "stdout",
     "output_type": "stream",
     "text": [
      "✅ 전처리 완료. 저장 위치: c:\\Users\\Playdata\\OneDrive\\문서\\Project\\SKN13-2nd-3TEAM\\data\\final_dataset.csv\n",
      "<class 'pandas.core.frame.DataFrame'>\n",
      "RangeIndex: 32545 entries, 0 to 32544\n",
      "Data columns (total 17 columns):\n",
      " #   Column                Non-Null Count  Dtype \n",
      "---  ------                --------------  ----- \n",
      " 0   code_module           32545 non-null  object\n",
      " 1   code_presentation     32545 non-null  object\n",
      " 2   id_student            32545 non-null  object\n",
      " 3   gender                32545 non-null  object\n",
      " 4   region                32545 non-null  object\n",
      " 5   highest_education     32545 non-null  object\n",
      " 6   imd_band              32545 non-null  object\n",
      " 7   age_band              32545 non-null  object\n",
      " 8   num_of_prev_attempts  32545 non-null  object\n",
      " 9   studied_credits       32545 non-null  object\n",
      " 10  disability            32545 non-null  object\n",
      " 11  date_registration     32545 non-null  object\n",
      " 12  date_unregistration   32545 non-null  object\n",
      " 13  sum_click             32545 non-null  object\n",
      " 14  avg_score             32545 non-null  object\n",
      " 15  is_dropout            32545 non-null  object\n",
      " 16  target                32545 non-null  int64 \n",
      "dtypes: int64(1), object(16)\n",
      "memory usage: 4.2+ MB\n"
     ]
    }
   ],
   "source": [
    "# na_values_df = pd.read_csv(\"../data/final_dataset.csv\")\n",
    "# na_values_df.info()\n",
    "\n",
    "na_values_df = preprocess_data()\n",
    "na_values_df.info()"
   ]
  },
  {
   "cell_type": "code",
   "execution_count": 3,
   "id": "ded0ecc0",
   "metadata": {},
   "outputs": [
    {
     "data": {
      "text/plain": [
       "((32545, 16), (32545,))"
      ]
     },
     "execution_count": 3,
     "metadata": {},
     "output_type": "execute_result"
    }
   ],
   "source": [
    "\n",
    "X = na_values_df.drop(columns='target').values\n",
    "# X = X.astype('float32')\n",
    "y = na_values_df['target'].values\n",
    "y = y.astype(int)\n",
    "\n",
    "X.shape,  y.shape"
   ]
  },
  {
   "cell_type": "code",
   "execution_count": 4,
   "id": "3dc707bc",
   "metadata": {},
   "outputs": [
    {
     "name": "stdout",
     "output_type": "stream",
     "text": [
      "<Compressed Sparse Row sparse matrix of dtype 'float64'\n",
      "\twith 488169 stored elements and shape (32545, 60)>\n",
      "  Coords\tValues\n",
      "  (0, 0)\t1.0\n",
      "  (0, 8)\t1.0\n",
      "  (0, 12)\t1.0\n",
      "  (0, 13)\t1.0\n",
      "  (0, 29)\t1.0\n",
      "  (0, 40)\t1.0\n",
      "  (0, 43)\t1.0\n",
      "  (0, 44)\t1.0\n",
      "  (0, 51)\t1.0\n",
      "  (0, 53)\t1.0\n",
      "  (0, 55)\t3.905125197007625\n",
      "  (0, 56)\t-1.8185928989610989\n",
      "  (0, 57)\t0.6671221427396934\n",
      "  (0, 58)\t-0.1670317117402033\n",
      "  (0, 59)\t0.7100890620793591\n",
      "  (1, 0)\t1.0\n",
      "  (1, 8)\t1.0\n",
      "  (1, 11)\t1.0\n",
      "  (1, 19)\t1.0\n",
      "  (1, 29)\t1.0\n",
      "  (1, 33)\t1.0\n",
      "  (1, 42)\t1.0\n",
      "  (1, 44)\t1.0\n",
      "  (1, 51)\t1.0\n",
      "  (1, 53)\t1.0\n",
      "  :\t:\n",
      "  (32543, 40)\t1.0\n",
      "  (32543, 42)\t1.0\n",
      "  (32543, 44)\t1.0\n",
      "  (32543, 51)\t1.0\n",
      "  (32543, 54)\t1.0\n",
      "  (32543, 55)\t-1.211159957215567\n",
      "  (32543, 56)\t0.4144516877944941\n",
      "  (32543, 57)\t-1.487791864498921\n",
      "  (32543, 58)\t-0.5562260670917427\n",
      "  (32543, 59)\t1.0137563256706723\n",
      "  (32544, 6)\t1.0\n",
      "  (32544, 10)\t1.0\n",
      "  (32544, 11)\t1.0\n",
      "  (32544, 25)\t1.0\n",
      "  (32544, 29)\t1.0\n",
      "  (32544, 36)\t1.0\n",
      "  (32544, 42)\t1.0\n",
      "  (32544, 44)\t1.0\n",
      "  (32544, 51)\t1.0\n",
      "  (32544, 53)\t1.0\n",
      "  (32544, 55)\t-1.211159957215567\n",
      "  (32544, 56)\t0.8407601998114709\n",
      "  (32544, 57)\t0.6671221427396934\n",
      "  (32544, 58)\t-0.3548371821526305\n",
      "  (32544, 59)\t0.7374876121778235\n"
     ]
    }
   ],
   "source": [
    "fe_transformer = ColumnTransformer([\n",
    "    (\"category_ohe\", OneHotEncoder(), [0, 1, 3, 4, 5, 6, 7, 8, 10,15]),# feature의 index로 지정.   # index는 앞에 했던 배열로 적용해줘야함.\n",
    "    (\"number_scaler\", StandardScaler(), [9,11,12,13,14])    #feature Scaling은 연속형끼리 같은 방식을 사용 (standard or MinMax 중 택1)\n",
    "])\n",
    "### DataFrame이 입력일 경우 컬럼명이나 컬럼 index를 지정할 수 있다.\n",
    "### ndarray가 입력일 경우 컬럼(feature) index를 지정.\n",
    "new_merged_df = fe_transformer.fit_transform(X)\n",
    "print(new_merged_df)"
   ]
  },
  {
   "cell_type": "code",
   "execution_count": 5,
   "id": "bb96a37c",
   "metadata": {},
   "outputs": [
    {
     "data": {
      "text/plain": [
       "((32545, 60), (32545,))"
      ]
     },
     "execution_count": 5,
     "metadata": {},
     "output_type": "execute_result"
    }
   ],
   "source": [
    "X = new_merged_df\n",
    "X = X.astype('float32')\n",
    "X = X.toarray()\n",
    "# y = new_merged_df['target'].values\n",
    "y = y.astype(int)\n",
    "X.shape,  y.shape"
   ]
  },
  {
   "cell_type": "code",
   "execution_count": 6,
   "id": "dec1745e",
   "metadata": {},
   "outputs": [
    {
     "name": "stdout",
     "output_type": "stream",
     "text": [
      "\n",
      " >>> Tuning Decision Tree...\n",
      "Fitting 5 folds for each of 108 candidates, totalling 540 fits\n",
      "- Complete:4.98089초\n",
      "\n",
      " >>> Tuning Random Forest...\n",
      "Fitting 5 folds for each of 2 candidates, totalling 10 fits\n",
      "- Complete:2.72242초\n",
      "\n",
      " >>> Tuning KNN...\n",
      "Fitting 5 folds for each of 4 candidates, totalling 20 fits\n",
      "- Complete:5.83766초\n",
      "\n",
      " >>> Tuning SVM...\n",
      "Fitting 5 folds for each of 1 candidates, totalling 5 fits\n",
      "- Complete:28.25268초\n",
      "\n",
      " >>> Tuning XGBoost...\n",
      "Fitting 5 folds for each of 1 candidates, totalling 5 fits\n",
      "- Complete:4.17509초\n",
      "\n",
      " >>> Tuning Logistic Regression...\n",
      "Fitting 5 folds for each of 1 candidates, totalling 5 fits\n",
      "- Complete:4.69427초\n",
      "\n",
      " >>> Tuning SGDClassifier...\n",
      "Fitting 5 folds for each of 2 candidates, totalling 10 fits\n",
      "- Complete:0.78971초\n",
      "\n",
      " >>> Tuning AdaBoost...\n",
      "Fitting 5 folds for each of 4 candidates, totalling 20 fits\n",
      "- Complete:8.94289초\n",
      "\n",
      " >>> Tuning CatBoost...\n",
      "Fitting 5 folds for each of 6 candidates, totalling 30 fits\n",
      "- Complete:51.40393초\n",
      "\n",
      " >>> Tuning Naive Bayes...\n",
      "Fitting 5 folds for each of 3 candidates, totalling 15 fits\n",
      "- Complete:0.30948초\n",
      "\n",
      " >>> Tuning LightGBM...\n",
      "Fitting 5 folds for each of 4 candidates, totalling 20 fits\n",
      "[LightGBM] [Info] Number of positive: 13707, number of negative: 12329\n",
      "[LightGBM] [Info] Auto-choosing row-wise multi-threading, the overhead of testing was 0.001291 seconds.\n",
      "You can set `force_row_wise=true` to remove the overhead.\n",
      "And if memory is not enough, you can set `force_col_wise=true`.\n",
      "[LightGBM] [Info] Total Bins 922\n",
      "[LightGBM] [Info] Number of data points in the train set: 26036, number of used features: 58\n",
      "[LightGBM] [Info] [binary:BoostFromScore]: pavg=0.526463 -> initscore=0.105952\n",
      "[LightGBM] [Info] Start training from score 0.105952\n"
     ]
    },
    {
     "name": "stderr",
     "output_type": "stream",
     "text": [
      "c:\\Users\\Playdata\\AppData\\Local\\miniconda3\\envs\\2nd\\Lib\\site-packages\\sklearn\\utils\\validation.py:2739: UserWarning: X does not have valid feature names, but LGBMClassifier was fitted with feature names\n",
      "  warnings.warn(\n"
     ]
    },
    {
     "name": "stdout",
     "output_type": "stream",
     "text": [
      "- Complete:16.97326초\n",
      "[✔] 전체 모델과 지표가 저장되었습니다: ../model/all_models.pkl\n",
      "\n",
      "=== Final Comparison ===\n",
      "              Model                                                                      Best Params  Train Accuracy (CV)  Test Accuracy\n",
      "           CatBoost         {'depth': 5, 'iterations': 500, 'l2_leaf_reg': 5, 'learning_rate': 0.03}             0.900983       0.899370\n",
      "            XGBoost                    {'learning_rate': 0.01, 'max_depth': 5, 'n_estimators': 1000}             0.899485       0.898448\n",
      "           LightGBM                    {'learning_rate': 0.1, 'n_estimators': 100, 'num_leaves': 50}             0.898525       0.896451\n",
      "      Random Forest                    {'max_depth': 10, 'min_samples_leaf': 2, 'n_estimators': 100}             0.884660       0.887079\n",
      "                SVM                                     {'C': 0.1, 'gamma': 0.1, 'kernel': 'linear'}             0.882932       0.886311\n",
      "Logistic Regression                                    {'C': 0.1, 'penalty': 'l2', 'solver': 'saga'}             0.881741       0.886311\n",
      "           AdaBoost                                      {'learning_rate': 1.0, 'n_estimators': 100}             0.880934       0.882778\n",
      "      SGDClassifier    {'alpha': 0.01, 'eta0': 0.1, 'learning_rate': 'adaptive', 'loss': 'log_loss'}             0.878169       0.882163\n",
      "                KNN                                         {'n_neighbors': 5, 'weights': 'uniform'}             0.846021       0.852512\n",
      "      Decision Tree {'max_depth': 2, 'max_features': 10, 'max_leaf_nodes': 3, 'min_samples_leaf': 2}             0.849939       0.848517\n",
      "        Naive Bayes                                                         {'var_smoothing': 1e-07}             0.798241       0.798587\n"
     ]
    },
    {
     "ename": "KeyError",
     "evalue": "'Accuracy'",
     "output_type": "error",
     "traceback": [
      "\u001b[31m---------------------------------------------------------------------------\u001b[39m",
      "\u001b[31mKeyError\u001b[39m                                  Traceback (most recent call last)",
      "\u001b[36mFile \u001b[39m\u001b[32mc:\\Users\\Playdata\\AppData\\Local\\miniconda3\\envs\\2nd\\Lib\\site-packages\\pandas\\core\\indexes\\base.py:3805\u001b[39m, in \u001b[36mIndex.get_loc\u001b[39m\u001b[34m(self, key)\u001b[39m\n\u001b[32m   3804\u001b[39m \u001b[38;5;28;01mtry\u001b[39;00m:\n\u001b[32m-> \u001b[39m\u001b[32m3805\u001b[39m     \u001b[38;5;28;01mreturn\u001b[39;00m \u001b[38;5;28;43mself\u001b[39;49m\u001b[43m.\u001b[49m\u001b[43m_engine\u001b[49m\u001b[43m.\u001b[49m\u001b[43mget_loc\u001b[49m\u001b[43m(\u001b[49m\u001b[43mcasted_key\u001b[49m\u001b[43m)\u001b[49m\n\u001b[32m   3806\u001b[39m \u001b[38;5;28;01mexcept\u001b[39;00m \u001b[38;5;167;01mKeyError\u001b[39;00m \u001b[38;5;28;01mas\u001b[39;00m err:\n",
      "\u001b[36mFile \u001b[39m\u001b[32mindex.pyx:167\u001b[39m, in \u001b[36mpandas._libs.index.IndexEngine.get_loc\u001b[39m\u001b[34m()\u001b[39m\n",
      "\u001b[36mFile \u001b[39m\u001b[32mindex.pyx:196\u001b[39m, in \u001b[36mpandas._libs.index.IndexEngine.get_loc\u001b[39m\u001b[34m()\u001b[39m\n",
      "\u001b[36mFile \u001b[39m\u001b[32mpandas\\\\_libs\\\\hashtable_class_helper.pxi:7081\u001b[39m, in \u001b[36mpandas._libs.hashtable.PyObjectHashTable.get_item\u001b[39m\u001b[34m()\u001b[39m\n",
      "\u001b[36mFile \u001b[39m\u001b[32mpandas\\\\_libs\\\\hashtable_class_helper.pxi:7089\u001b[39m, in \u001b[36mpandas._libs.hashtable.PyObjectHashTable.get_item\u001b[39m\u001b[34m()\u001b[39m\n",
      "\u001b[31mKeyError\u001b[39m: 'Accuracy'",
      "\nThe above exception was the direct cause of the following exception:\n",
      "\u001b[31mKeyError\u001b[39m                                  Traceback (most recent call last)",
      "\u001b[36mCell\u001b[39m\u001b[36m \u001b[39m\u001b[32mIn[6]\u001b[39m\u001b[32m, line 104\u001b[39m\n\u001b[32m     44\u001b[39m param_grids = {\n\u001b[32m     45\u001b[39m     \u001b[33m\"\u001b[39m\u001b[33mDecision Tree\u001b[39m\u001b[33m\"\u001b[39m: {\n\u001b[32m     46\u001b[39m         \u001b[33m\"\u001b[39m\u001b[33mmax_depth\u001b[39m\u001b[33m\"\u001b[39m:\u001b[38;5;28mrange\u001b[39m(\u001b[32m1\u001b[39m, \u001b[32m5\u001b[39m),\n\u001b[32m   (...)\u001b[39m\u001b[32m    100\u001b[39m     \u001b[38;5;66;03m# }\u001b[39;00m\n\u001b[32m    101\u001b[39m }\n\u001b[32m    103\u001b[39m \u001b[38;5;66;03m# 함수 실행\u001b[39;00m\n\u001b[32m--> \u001b[39m\u001b[32m104\u001b[39m results_df, best_models = \u001b[43mauto_model_tuning\u001b[49m\u001b[43m(\u001b[49m\u001b[43mbase_models\u001b[49m\u001b[43m,\u001b[49m\u001b[43m \u001b[49m\u001b[43mparam_grids\u001b[49m\u001b[43m,\u001b[49m\u001b[43m \u001b[49m\u001b[43mX\u001b[49m\u001b[43m,\u001b[49m\u001b[43m \u001b[49m\u001b[43my\u001b[49m\u001b[43m)\u001b[49m\n",
      "\u001b[36mFile \u001b[39m\u001b[32mc:\\Users\\Playdata\\OneDrive\\문서\\Project\\SKN13-2nd-3TEAM\\util\\model_tuning.py:105\u001b[39m, in \u001b[36mauto_model_tuning\u001b[39m\u001b[34m(base_models, param_grids, X, y, test_size, random_state, cv, n_jobs)\u001b[39m\n\u001b[32m    102\u001b[39m \u001b[38;5;28mprint\u001b[39m(results_df.to_string(index=\u001b[38;5;28;01mFalse\u001b[39;00m))\n\u001b[32m    104\u001b[39m \u001b[38;5;66;03m# 5. 시각화\u001b[39;00m\n\u001b[32m--> \u001b[39m\u001b[32m105\u001b[39m \u001b[43mplot_model_performance_comparison\u001b[49m\u001b[43m(\u001b[49m\u001b[43mresults_df\u001b[49m\u001b[43m)\u001b[49m\n\u001b[32m    107\u001b[39m \u001b[38;5;66;03m# 6. 성능 리포트 출력\u001b[39;00m\n\u001b[32m    108\u001b[39m \u001b[38;5;28;01mfor\u001b[39;00m model_name, estimator \u001b[38;5;129;01min\u001b[39;00m best_estimators.items():\n",
      "\u001b[36mFile \u001b[39m\u001b[32mc:\\Users\\Playdata\\OneDrive\\문서\\Project\\SKN13-2nd-3TEAM\\util\\visualizer.py:22\u001b[39m, in \u001b[36mplot_model_performance_comparison\u001b[39m\u001b[34m(results_df, figsize)\u001b[39m\n\u001b[32m     20\u001b[39m \u001b[38;5;28;01mdef\u001b[39;00m\u001b[38;5;250m \u001b[39m\u001b[34mplot_model_performance_comparison\u001b[39m(results_df, figsize=(\u001b[32m10\u001b[39m, \u001b[32m6\u001b[39m)):\n\u001b[32m     21\u001b[39m     fig, ax = plt.subplots(figsize=figsize)\n\u001b[32m---> \u001b[39m\u001b[32m22\u001b[39m     bars = ax.barh(results_df[\u001b[33m'\u001b[39m\u001b[33mModel\u001b[39m\u001b[33m'\u001b[39m], \u001b[43mresults_df\u001b[49m\u001b[43m[\u001b[49m\u001b[33;43m'\u001b[39;49m\u001b[33;43mAccuracy\u001b[39;49m\u001b[33;43m'\u001b[39;49m\u001b[43m]\u001b[49m, color=\u001b[33m'\u001b[39m\u001b[33mskyblue\u001b[39m\u001b[33m'\u001b[39m)\n\u001b[32m     23\u001b[39m     ax.set_xlabel(\u001b[33m'\u001b[39m\u001b[33mTest Accuracy\u001b[39m\u001b[33m'\u001b[39m)\n\u001b[32m     24\u001b[39m     ax.set_title(\u001b[33m'\u001b[39m\u001b[33mModel Performance Comparison\u001b[39m\u001b[33m'\u001b[39m)\n",
      "\u001b[36mFile \u001b[39m\u001b[32mc:\\Users\\Playdata\\AppData\\Local\\miniconda3\\envs\\2nd\\Lib\\site-packages\\pandas\\core\\frame.py:4102\u001b[39m, in \u001b[36mDataFrame.__getitem__\u001b[39m\u001b[34m(self, key)\u001b[39m\n\u001b[32m   4100\u001b[39m \u001b[38;5;28;01mif\u001b[39;00m \u001b[38;5;28mself\u001b[39m.columns.nlevels > \u001b[32m1\u001b[39m:\n\u001b[32m   4101\u001b[39m     \u001b[38;5;28;01mreturn\u001b[39;00m \u001b[38;5;28mself\u001b[39m._getitem_multilevel(key)\n\u001b[32m-> \u001b[39m\u001b[32m4102\u001b[39m indexer = \u001b[38;5;28;43mself\u001b[39;49m\u001b[43m.\u001b[49m\u001b[43mcolumns\u001b[49m\u001b[43m.\u001b[49m\u001b[43mget_loc\u001b[49m\u001b[43m(\u001b[49m\u001b[43mkey\u001b[49m\u001b[43m)\u001b[49m\n\u001b[32m   4103\u001b[39m \u001b[38;5;28;01mif\u001b[39;00m is_integer(indexer):\n\u001b[32m   4104\u001b[39m     indexer = [indexer]\n",
      "\u001b[36mFile \u001b[39m\u001b[32mc:\\Users\\Playdata\\AppData\\Local\\miniconda3\\envs\\2nd\\Lib\\site-packages\\pandas\\core\\indexes\\base.py:3812\u001b[39m, in \u001b[36mIndex.get_loc\u001b[39m\u001b[34m(self, key)\u001b[39m\n\u001b[32m   3807\u001b[39m     \u001b[38;5;28;01mif\u001b[39;00m \u001b[38;5;28misinstance\u001b[39m(casted_key, \u001b[38;5;28mslice\u001b[39m) \u001b[38;5;129;01mor\u001b[39;00m (\n\u001b[32m   3808\u001b[39m         \u001b[38;5;28misinstance\u001b[39m(casted_key, abc.Iterable)\n\u001b[32m   3809\u001b[39m         \u001b[38;5;129;01mand\u001b[39;00m \u001b[38;5;28many\u001b[39m(\u001b[38;5;28misinstance\u001b[39m(x, \u001b[38;5;28mslice\u001b[39m) \u001b[38;5;28;01mfor\u001b[39;00m x \u001b[38;5;129;01min\u001b[39;00m casted_key)\n\u001b[32m   3810\u001b[39m     ):\n\u001b[32m   3811\u001b[39m         \u001b[38;5;28;01mraise\u001b[39;00m InvalidIndexError(key)\n\u001b[32m-> \u001b[39m\u001b[32m3812\u001b[39m     \u001b[38;5;28;01mraise\u001b[39;00m \u001b[38;5;167;01mKeyError\u001b[39;00m(key) \u001b[38;5;28;01mfrom\u001b[39;00m\u001b[38;5;250m \u001b[39m\u001b[34;01merr\u001b[39;00m\n\u001b[32m   3813\u001b[39m \u001b[38;5;28;01mexcept\u001b[39;00m \u001b[38;5;167;01mTypeError\u001b[39;00m:\n\u001b[32m   3814\u001b[39m     \u001b[38;5;66;03m# If we have a listlike key, _check_indexing_error will raise\u001b[39;00m\n\u001b[32m   3815\u001b[39m     \u001b[38;5;66;03m#  InvalidIndexError. Otherwise we fall through and re-raise\u001b[39;00m\n\u001b[32m   3816\u001b[39m     \u001b[38;5;66;03m#  the TypeError.\u001b[39;00m\n\u001b[32m   3817\u001b[39m     \u001b[38;5;28mself\u001b[39m._check_indexing_error(key)\n",
      "\u001b[31mKeyError\u001b[39m: 'Accuracy'"
     ]
    },
    {
     "data": {
      "image/png": "[encoded data removed]",
      "text/plain": [
       "<Figure size 1000x600 with 1 Axes>"
      ]
     },
     "metadata": {},
     "output_type": "display_data"
    }
   ],
   "source": [
    "import sys\n",
    "from pathlib import Path\n",
    "# 상위 폴더를 Python 경로에 추가\n",
    "sys.path.append(str(Path.cwd().parent))\n",
    "from util.model_tuning import auto_model_tuning\n",
    "from util.model_io import save_model, load_model, save_models, load_models\n",
    "from sklearn.preprocessing import StandardScaler\n",
    "\n",
    "from sklearn.naive_bayes import GaussianNB\n",
    "from catboost import CatBoostClassifier\n",
    "from lightgbm import LGBMClassifier\n",
    "from sklearn.ensemble import AdaBoostClassifier\n",
    "from sklearn.tree import DecisionTreeClassifier\n",
    "from sklearn.ensemble import RandomForestClassifier\n",
    "from sklearn.neighbors import KNeighborsClassifier\n",
    "from sklearn.svm import SVC\n",
    "from xgboost import XGBClassifier\n",
    "from sklearn.linear_model import LogisticRegression, SGDClassifier\n",
    "from sklearn.neural_network import MLPClassifier\n",
    "\n",
    "\n",
    "X = new_merged_df\n",
    "X = X.astype('float32')\n",
    "X = X.toarray()\n",
    "\n",
    "y = y.astype(int)\n",
    "\n",
    "\n",
    "base_models = {\n",
    "    \"Decision Tree\": DecisionTreeClassifier(random_state=42),\n",
    "    \"Random Forest\": RandomForestClassifier(random_state=42),\n",
    "    \"KNN\": KNeighborsClassifier(),\n",
    "    \"SVM\": SVC(random_state=42),\n",
    "    \"XGBoost\": XGBClassifier(random_state=42),\n",
    "    \"Logistic Regression\": LogisticRegression(max_iter=5000, random_state=42),\n",
    "    \"SGDClassifier\": SGDClassifier(random_state=42),\n",
    "    \"AdaBoost\": AdaBoostClassifier(random_state=42),\n",
    "    \"CatBoost\": CatBoostClassifier(verbose=0, random_state=42),\n",
    "    \"Naive Bayes\": GaussianNB(),\n",
    "    \"LightGBM\": LGBMClassifier(random_state=42)\n",
    "    # \"MLPClassifier\": MLPClassifier(max_iter=1000, early_stopping=True, random_state=42)\n",
    "}\n",
    "\n",
    "param_grids = {\n",
    "    \"Decision Tree\": {\n",
    "        \"max_depth\":range(1, 5),\n",
    "        \"max_leaf_nodes\": [3, 5, 10],\n",
    "        \"min_samples_leaf\": [2, 5, 10],\n",
    "        \"max_features\": [1, 5, 10]},\n",
    "    \"Random Forest\": {\n",
    "        'n_estimators': [50, 100], #200, 300],\n",
    "        'max_depth':[10],#, 20, 30],\n",
    "        \"min_samples_leaf\": [2]#, 5, 10],\n",
    "        },\n",
    "    \"KNN\": {\n",
    "        'n_neighbors':[3,5],\n",
    "        'weights': ['uniform', 'distance']},\n",
    "    \"SVM\": {\n",
    "        'C': [0.1], #[0.001,   #, 0.1, 1, 10],\n",
    "        'gamma': [0.1], #[0.01, 0.1, 1, 10],\n",
    "        'kernel': ['linear']},\n",
    "    \"XGBoost\": {\n",
    "        'n_estimators': [1000],\n",
    "        'learning_rate' : [0.01],\n",
    "        'max_depth': [5]},\n",
    "    \"Logistic Regression\": {\n",
    "        'C': [0.1],  # 규제 강도\n",
    "        'penalty': [ 'l2'],  # 규제 유형\n",
    "        'solver': ['saga']},\n",
    "    \"SGDClassifier\": {\n",
    "        'loss': ['log_loss', 'hinge'],  # log_loss=로지스틱, hinge=SVM\n",
    "        'alpha': [ 0.01],  # 규제 계수\n",
    "        'learning_rate': ['adaptive'],\n",
    "        'eta0': [0.1]},\n",
    "    \"AdaBoost\": {\n",
    "        'n_estimators': [50, 100],\n",
    "        'learning_rate': [0.5, 1.0]\n",
    "    },\n",
    "    \"CatBoost\": {\n",
    "        'iterations': [500], #(500, 5001, 500),\n",
    "        'depth': [4, 5], #range(4,11),\n",
    "        'learning_rate': [0.03], # [0.01, 0.03, 0.05, 0.1, 0.3],\n",
    "        'l2_leaf_reg' : [1,3,5] #range(1, 11)\n",
    "    },\n",
    "    \"Naive Bayes\": {\n",
    "        # GaussianNB has no hyperparameters commonly tuned, but for structure:\n",
    "        'var_smoothing': [1e-9, 1e-8, 1e-7]\n",
    "    },\n",
    "    \"LightGBM\": {\n",
    "        'n_estimators': [100],\n",
    "        'learning_rate': [0.01, 0.1],\n",
    "        'num_leaves': [31, 50]\n",
    "    }\n",
    "    # \"MLPClassifier\": {\n",
    "    #     'hidden_layer_sizes': [(50,), (100,), (50, 30)],\n",
    "    #     'activation': ['relu', 'tanh'],\n",
    "    #     'alpha': [0.0001, 0.001],  # L2 규제 강도\n",
    "    #     'learning_rate_init': [0.001, 0.01],\n",
    "    #     'batch_size': [32, 64]\n",
    "    # }\n",
    "}\n",
    "\n",
    "# 함수 실행\n",
    "results_df, best_models = auto_model_tuning(base_models, param_grids, X, y)"
   ]
  },
  {
   "cell_type": "code",
   "execution_count": null,
   "id": "a69bfafe",
   "metadata": {},
   "outputs": [],
   "source": []
  }
 ],
 "metadata": {
  "kernelspec": {
   "display_name": "my_env",
   "language": "python",
   "name": "python3"
  },
  "language_info": {
   "codemirror_mode": {
    "name": "ipython",
    "version": 3
   },
   "file_extension": ".py",
   "mimetype": "text/x-python",
   "name": "python",
   "nbconvert_exporter": "python",
   "pygments_lexer": "ipython3",
   "version": "3.11.11"
  }
 },
 "nbformat": 4,
 "nbformat_minor": 5
}
